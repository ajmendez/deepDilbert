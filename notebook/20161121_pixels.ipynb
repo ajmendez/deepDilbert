{
 "cells": [
  {
   "cell_type": "code",
   "execution_count": null,
   "metadata": {
    "collapsed": true
   },
   "outputs": [],
   "source": [
    "%matplotlib inline\n",
    "import matplotlib.pyplot as plt\n",
    "import numpy as np\n",
    "import pandas as pd\n",
    "import glob\n",
    "import rarfile, os\n",
    "\n",
    "def rgb2gray(rgb):\n",
    "    return np.dot(rgb[...,:3], [0.299, 0.587, 0.114])\n"
   ]
  },
  {
   "cell_type": "code",
   "execution_count": null,
   "metadata": {
    "collapsed": false
   },
   "outputs": [],
   "source": [
    "img = rgb2gray(plt.imread('test.jpg'))\n",
    "img.shape"
   ]
  },
  {
   "cell_type": "code",
   "execution_count": null,
   "metadata": {
    "collapsed": false
   },
   "outputs": [],
   "source": [
    "plt.figure(figsize=(12,6))\n",
    "plt.imshow(img, cmap=plt.cm.gray)"
   ]
  },
  {
   "cell_type": "code",
   "execution_count": null,
   "metadata": {
    "collapsed": false
   },
   "outputs": [],
   "source": [
    "def plotBox(xmin, xmax, ymin, ymax):\n",
    "    plt.plot([xmin, xmax, xmax, xmin, xmin],\n",
    "             [ymin, ymin, ymax, ymax, ymin], color='r', lw=2)\n",
    "\n",
    "def threshold(img, thresh=60):\n",
    "    Y = np.zeros(img.shape)+255\n",
    "    Y[img < thresh] = img[img < thresh]\n",
    "    return(Y)\n",
    "    \n",
    "# linethresh = 180\n",
    "\n",
    "nx,ny = 90,90\n",
    "Y = threshold(img)\n",
    "linethresh = np.clip(np.percentile(np.mean(Y, axis=1), 4), 0, 180)\n",
    "ylines = np.where(np.mean(Y,1) <= linethresh)[0]\n",
    "if len(ylines):\n",
    "    # two rows\n",
    "    lines = (np.concatenate([[0], ylines,[img.shape[0]]]))\n",
    "    deltas = np.diff(lines)\n",
    "    yoffsets = lines[np.where(deltas>=ny)[0]]#[::2]\n",
    "    heights = deltas[np.where(deltas>=ny)[0]]#[::2]\n",
    "    print(lines)\n",
    "    print(deltas)\n",
    "    print (yoffsets)\n",
    "    print(heights)\n",
    "else:\n",
    "    print(ylines)\n",
    "    plt.plot(np.mean(Y,1))\n",
    "    raise(ValueError('Could not figure out boxes'))\n",
    "\n",
    "plt.figure(figsize=(12,6))\n",
    "plt.imshow(img, cmap=plt.cm.gray)\n",
    "plt.xlim(-1, img.shape[1]+1)\n",
    "plt.ylim(img.shape[0]+1,-1)\n",
    "    \n",
    "for yoffset,height in zip(yoffsets, heights):\n",
    "    X = Y[yoffset:yoffset+height,:]\n",
    "    linethresh = np.clip(np.percentile(np.mean(X, axis=0), 1),0,180)\n",
    "    xlines = np.where(np.mean(X, 0) <= linethresh)[0]\n",
    "    \n",
    "    if len(xlines):\n",
    "        # 4 columns\n",
    "        lines = (np.concatenate([[0], xlines,[img.shape[1]]]))\n",
    "        deltas = np.diff(lines)\n",
    "        xoffsets = lines[np.where(deltas>=nx)[0]]#[::2]\n",
    "        widths = deltas[np.where(deltas>=nx)[0]]#[::2]\n",
    "        print(linethresh, len(xlines))\n",
    "        for xoffset, width in zip(xoffsets, widths):\n",
    "            plotBox(xoffset, xoffset+width, yoffset, yoffset+height)\n",
    "    else:\n",
    "        print(len(xlines))\n",
    "        raise(ValueError('Not Sure'))\n",
    "#         break\n",
    "    \n",
    "#     break\n",
    "\n",
    "# plt.figure(figsize=(12,6))\n",
    "# plt.imshow(Y, cmap=plt.cm.gray)\n",
    "plt.figure(figsize=(6,6))\n",
    "plt.plot(np.mean(Y, axis=1))\n",
    "    \n",
    "# plt.figure(figsize=(12,6))\n",
    "# plt.imshow(X, cmap=plt.cm.gray)\n",
    "# plt.figure(figsize=(6,6))\n",
    "# plt.plot(np.mean(X, axis=0))\n",
    "\n",
    "\n",
    "# plt.plot(np.mean(X, axis=0))"
   ]
  },
  {
   "cell_type": "code",
   "execution_count": null,
   "metadata": {
    "collapsed": false,
    "scrolled": false
   },
   "outputs": [],
   "source": [
    "def carve(img, nx=100, ny=100, linethresh=None):\n",
    "    Y = threshold(img)\n",
    "    linethresh = np.clip(np.percentile(np.mean(Y, axis=1), 4), 0, 180)\n",
    "    ylines = np.where(np.mean(Y,1)<linethresh)[0]\n",
    "    lines = (np.concatenate([[0], ylines,[img.shape[0]]]))\n",
    "    deltas = np.diff(lines)\n",
    "    yoffsets = lines[np.where(deltas>ny)[0]]#[::2]\n",
    "    heights = deltas[np.where(deltas>ny)[0]]#[::2]\n",
    "    \n",
    "    for yoffset,height in zip(yoffsets, heights):\n",
    "        X = Y[yoffset:yoffset+height,:]\n",
    "        xmean = np.mean(X, axis=0)/np.std(X, axis=0)\n",
    "        xlines = np.where(xmean < 1)[0]\n",
    "#         linethresh = np.clip(np.percentile(xmean, 4), 0, 180)\n",
    "#         linethresh = np.percentile(xmean, np.pi)\n",
    "#         xlines = np.where(np.mean(X, 0) < linethresh)[0]\n",
    "\n",
    "        lines = (np.concatenate([[0], xlines,[img.shape[1]]]))\n",
    "        deltas = np.diff(lines)\n",
    "        xoffsets = lines[np.where(deltas>ny)[0]]#[::2]\n",
    "        widths = deltas[np.where(deltas>ny)[0]]#[::2]\n",
    "        \n",
    "#         plt.figure(1)\n",
    "#         plt.axhline(1)\n",
    "#         plt.plot(xmean)\n",
    "#         plt.xlim(0,2)\n",
    "        \n",
    "#         print(sxoffsets)\n",
    "#         print(widths)\n",
    "        for xoffset, width in zip(xoffsets, widths):\n",
    "            yield xoffset, xoffset+width, yoffset, yoffset+height\n",
    "#             yield img[yoffset:yoffset+height, \n",
    "#                       xoffset:xoffset+width]\n",
    "\n",
    "plt.figure(0, figsize=(12,6))\n",
    "pattern = '/Users/ajmendez/data/dilbert/raw/*.rar'\n",
    "for filename in sorted(glob.iglob(pattern)):\n",
    "    try:\n",
    "        with rarfile.RarFile(filename, crc_check=False) as rf:\n",
    "            files = sorted(rf.namelist())\n",
    "            goodfiles = [f for f in files\n",
    "                         if ('.gif' in f) or (not (f.replace('.jpg','-colour.jpg') in files) )]\n",
    "            for i,f in enumerate(goodfiles):\n",
    "                img = rgb2gray(plt.imread(rf.open(f)))\n",
    "                plt.figure('{} {}'.format(filename,i))\n",
    "                plt.imshow(img, cmap=plt.cm.gray)\n",
    "                for im in carve(img):\n",
    "                    plotBox(*im)\n",
    "                plt.autoscale(enable=True, axis='both', tight=True)\n",
    "                if i > 1:\n",
    "                    break\n",
    "    except Exception as e:\n",
    "        print('Failed to load: {}'.format(filename))\n",
    "#             break\n",
    "#     break\n",
    "plt.show()"
   ]
  },
  {
   "cell_type": "code",
   "execution_count": null,
   "metadata": {
    "collapsed": true
   },
   "outputs": [],
   "source": []
  }
 ],
 "metadata": {
  "kernelspec": {
   "display_name": "Python 3",
   "language": "python",
   "name": "python3"
  },
  "language_info": {
   "codemirror_mode": {
    "name": "ipython",
    "version": 3
   },
   "file_extension": ".py",
   "mimetype": "text/x-python",
   "name": "python",
   "nbconvert_exporter": "python",
   "pygments_lexer": "ipython3",
   "version": "3.5.2"
  }
 },
 "nbformat": 4,
 "nbformat_minor": 0
}
