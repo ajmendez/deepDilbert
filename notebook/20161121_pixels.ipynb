{
 "cells": [
  {
   "cell_type": "code",
   "execution_count": null,
   "metadata": {
    "collapsed": false
   },
   "outputs": [],
   "source": [
    "%matplotlib inline\n",
    "import matplotlib.pyplot as plt\n",
    "import numpy as np\n",
    "import pandas as pd\n",
    "import re\n",
    "import glob\n",
    "import rarfile, os\n",
    "from collections import Counter\n",
    "from PIL import Image\n",
    "from datetime import datetime\n",
    "import shutil\n",
    "\n",
    "def rgb2gray(rgb):\n",
    "    return np.dot(rgb[...,:3], [0.299, 0.587, 0.114])\n"
   ]
  },
  {
   "cell_type": "code",
   "execution_count": null,
   "metadata": {
    "collapsed": false
   },
   "outputs": [],
   "source": [
    "img = rgb2gray(plt.imread('test.jpg'))\n",
    "img.shape"
   ]
  },
  {
   "cell_type": "code",
   "execution_count": null,
   "metadata": {
    "collapsed": false
   },
   "outputs": [],
   "source": [
    "plt.figure(figsize=(12,6))\n",
    "plt.imshow(img, cmap=plt.cm.gray)"
   ]
  },
  {
   "cell_type": "code",
   "execution_count": null,
   "metadata": {
    "collapsed": false
   },
   "outputs": [],
   "source": [
    "def plotBox(xmin, xmax, ymin, ymax):\n",
    "    plt.plot([xmin, xmax, xmax, xmin, xmin],\n",
    "             [ymin, ymin, ymax, ymax, ymin], color='r', lw=2)\n",
    "\n",
    "def threshold(img, thresh=60):\n",
    "    Y = np.zeros(img.shape)+255\n",
    "    Y[img < thresh] = img[img < thresh]\n",
    "    return(Y)\n",
    "    \n",
    "# linethresh = 180\n",
    "\n",
    "nx,ny = 90,90\n",
    "Y = threshold(img)\n",
    "linethresh = np.clip(np.percentile(np.mean(Y, axis=1), 4), 0, 180)\n",
    "ylines = np.where(np.mean(Y,1) <= linethresh)[0]\n",
    "if len(ylines):\n",
    "    # two rows\n",
    "    lines = (np.concatenate([[0], ylines,[img.shape[0]]]))\n",
    "    deltas = np.diff(lines)\n",
    "    yoffsets = lines[np.where(deltas>=ny)[0]]#[::2]\n",
    "    heights = deltas[np.where(deltas>=ny)[0]]#[::2]\n",
    "    print(lines)\n",
    "    print(deltas)\n",
    "    print (yoffsets)\n",
    "    print(heights)\n",
    "else:\n",
    "    print(ylines)\n",
    "    plt.plot(np.mean(Y,1))\n",
    "    raise(ValueError('Could not figure out boxes'))\n",
    "\n",
    "plt.figure(figsize=(12,6))\n",
    "plt.imshow(img, cmap=plt.cm.gray)\n",
    "plt.xlim(-1, img.shape[1]+1)\n",
    "plt.ylim(img.shape[0]+1,-1)\n",
    "    \n",
    "for yoffset,height in zip(yoffsets, heights):\n",
    "    X = Y[yoffset:yoffset+height,:]\n",
    "    linethresh = np.clip(np.percentile(np.mean(X, axis=0), 1),0,180)\n",
    "    xlines = np.where(np.mean(X, 0) <= linethresh)[0]\n",
    "    \n",
    "    if len(xlines):\n",
    "        # 4 columns\n",
    "        lines = (np.concatenate([[0], xlines,[img.shape[1]]]))\n",
    "        deltas = np.diff(lines)\n",
    "        xoffsets = lines[np.where(deltas>=nx)[0]]#[::2]\n",
    "        widths = deltas[np.where(deltas>=nx)[0]]#[::2]\n",
    "        print(linethresh, len(xlines))\n",
    "        for xoffset, width in zip(xoffsets, widths):\n",
    "            plotBox(xoffset, xoffset+width, yoffset, yoffset+height)\n",
    "    else:\n",
    "        print(len(xlines))\n",
    "        raise(ValueError('Not Sure'))\n",
    "#         break\n",
    "    \n",
    "#     break\n",
    "\n",
    "# plt.figure(figsize=(12,6))\n",
    "# plt.imshow(Y, cmap=plt.cm.gray)\n",
    "plt.figure(figsize=(6,6))\n",
    "plt.plot(np.mean(Y, axis=1))\n",
    "    \n",
    "# plt.figure(figsize=(12,6))\n",
    "# plt.imshow(X, cmap=plt.cm.gray)\n",
    "# plt.figure(figsize=(6,6))\n",
    "# plt.plot(np.mean(X, axis=0))\n",
    "\n",
    "\n",
    "# plt.plot(np.mean(X, axis=0))"
   ]
  },
  {
   "cell_type": "code",
   "execution_count": null,
   "metadata": {
    "collapsed": false,
    "scrolled": false
   },
   "outputs": [],
   "source": [
    "pattern = '/Users/ajmendez/data/dilbert/raw/*.rar'\n",
    "sizes = Counter()\n",
    "for filename in sorted(glob.iglob(pattern)):\n",
    "    year = int(re.findall('\\d+', filename)[0])\n",
    "    \n",
    "    try:\n",
    "        with rarfile.RarFile(filename, crc_check=False) as rf:\n",
    "            files = sorted(rf.namelist())\n",
    "            goodfiles = [f for f in files\n",
    "                         if ('.gif' in f) or (not (f.replace('.jpg','-colour.jpg') in files) )]\n",
    "            for i,f in enumerate(goodfiles):\n",
    "                try:\n",
    "                    img = plt.imread(rf.open(f))\n",
    "                except Exception as e:\n",
    "                    print('Failed to read {}: {}'.format(f,e))\n",
    "                if len(img.shape) in [3,4]:\n",
    "                    # automatically drops alpha channel\n",
    "                    img = rgb2gray(img)\n",
    "                    \n",
    "                sizes[(img.shape[0], img.shape[1], year)] += 1\n",
    "    except Exception as e:\n",
    "        print(e)\n"
   ]
  },
  {
   "cell_type": "code",
   "execution_count": null,
   "metadata": {
    "collapsed": false
   },
   "outputs": [],
   "source": [
    "def myround(x, base=10):\n",
    "    return int(base * round(float(x)/base))\n",
    "\n",
    "generalsizes = Counter()\n",
    "for (height,width,year),number in sizes.items():\n",
    "    generalsizes[(myround(height),myround(width))] += number\n",
    "\n",
    "framespercomic = 3*(5/6) + 8*(1/6)\n",
    "ncomics = sum(sizes.values())\n",
    "print('Total Shapes: {:,d}, Total Images: {:,d}; Total Panels: {:0,.0f}'\n",
    "      .format(len(generalsizes), ncomics, framespercomic*ncomics))"
   ]
  },
  {
   "cell_type": "code",
   "execution_count": null,
   "metadata": {
    "collapsed": false,
    "scrolled": false
   },
   "outputs": [],
   "source": [
    "fig, (ax1, ax2) = plt.subplots(1,2, figsize=(12,6))\n",
    "\n",
    "plt.sca(ax1)\n",
    "for (height,width),number in generalsizes.items():\n",
    "    sca = plt.scatter(width, height, s=np.clip(number,5,50), lw=0, alpha=0.5)\n",
    "ax1.set(xlabel='width', ylabel='height',)\n",
    "\n",
    "\n",
    "plt.sca(ax2)\n",
    "for (height,width, year),number in sizes.items():\n",
    "    sca = plt.scatter(width, height, c=year, vmin=1989, vmax=2015,\n",
    "                      s=number, lw=0, alpha=0.5)\n",
    "plt.colorbar(sca, label='year')\n",
    "ax2.set(xlabel='width', ylabel='height')\n",
    "\n"
   ]
  },
  {
   "cell_type": "code",
   "execution_count": null,
   "metadata": {
    "collapsed": false
   },
   "outputs": [],
   "source": [
    "for (height,width, year),number in sizes.items():\n",
    "    sca = plt.scatter(width, height, c=year, vmin=1989, vmax=2015,s=number, lw=0, alpha=0.5)\n",
    "plt.colorbar(sca, label='year')\n",
    "plt.gca().set(xlabel='width', xlim=[0, 1000],\n",
    "              ylabel='height', ylim=[0, 700])\n",
    "\n",
    "framespercomic = 3*(5/6) + 8*(1/6)d\n",
    "ncomics = sum(sizes.values())\n",
    "print('Total Images: {:,d}; Total Panels: {:0,.0f}'.format(ncomics, framespercomic*ncomics))"
   ]
  },
  {
   "cell_type": "code",
   "execution_count": null,
   "metadata": {
    "collapsed": false,
    "scrolled": false
   },
   "outputs": [],
   "source": [
    "def carve(img, nx=100, ny=100, linethresh=None):\n",
    "    Y = threshold(img)\n",
    "    linethresh = np.clip(np.percentile(np.mean(Y, axis=1), 4), 0, 180)\n",
    "    ylines = np.where(np.mean(Y,1)<linethresh)[0]\n",
    "    lines = (np.concatenate([[0], ylines,[img.shape[0]]]))\n",
    "    deltas = np.diff(lines)\n",
    "    yoffsets = lines[np.where(deltas>ny)[0]]#[::2]\n",
    "    heights = deltas[np.where(deltas>ny)[0]]#[::2]\n",
    "    \n",
    "    for yoffset,height in zip(yoffsets, heights):\n",
    "        X = Y[yoffset:yoffset+height,:]\n",
    "        xmean = np.mean(X, axis=0)/np.std(X, axis=0)\n",
    "        xlines = np.where(xmean < 1)[0]\n",
    "#         linethresh = np.clip(np.percentile(xmean, 4), 0, 180)\n",
    "#         linethresh = np.percentile(xmean, np.pi)\n",
    "#         xlines = np.where(np.mean(X, 0) < linethresh)[0]\n",
    "\n",
    "        lines = (np.concatenate([[0], xlines,[img.shape[1]]]))\n",
    "        deltas = np.diff(lines)\n",
    "        xoffsets = lines[np.where(deltas>ny)[0]]#[::2]\n",
    "        widths = deltas[np.where(deltas>ny)[0]]#[::2]\n",
    "        \n",
    "#         plt.figure(1)\n",
    "#         plt.axhline(1)\n",
    "#         plt.plot(xmean)\n",
    "#         plt.xlim(0,2)\n",
    "        \n",
    "#         print(sxoffsets)\n",
    "#         print(widths)\n",
    "        for xoffset, width in zip(xoffsets, widths):\n",
    "            yield xoffset, xoffset+width, yoffset, yoffset+height\n",
    "#             yield img[yoffset:yoffset+height, \n",
    "#                       xoffset:xoffset+width]\n",
    "\n",
    "def genAxes():\n",
    "    fig, axes = plt.subplots(5,5, figsize=(12,12), \n",
    "                         subplot_kw={'xticks':[], 'yticks':[]})\n",
    "    for ax in axes.flatten():\n",
    "        yield ax\n",
    "\n",
    "    \n",
    "\n",
    "Axes = genAxes()\n",
    "sz = Counter()\n",
    "images = {}\n",
    "pattern = '/Users/ajmendez/data/dilbert/raw/*.rar'\n",
    "for filename in sorted(glob.iglob(pattern)):\n",
    "    try:\n",
    "        with rarfile.RarFile(filename, crc_check=False) as rf:\n",
    "            files = sorted(rf.namelist())\n",
    "            goodfiles = [f for f in files\n",
    "                         if ('.gif' in f) or (not (f.replace('.jpg','-colour.jpg') in files) )]\n",
    "            for i,f in enumerate(goodfiles):\n",
    "                try:\n",
    "                    img = plt.imread(rf.open(f))\n",
    "                except Exception as e:\n",
    "                    print('Could not load {}: {}'.format(f,e))\n",
    "                \n",
    "                key = (myround(img.shape[0]), myround(img.shape[1]))\n",
    "                if key in sz:\n",
    "                    continue\n",
    "#                 raise ValueError('Done')\n",
    "                sz[key] += 1\n",
    "                if len(img.shape) in [3,4]:\n",
    "                    img = rgb2gray(img)\n",
    "                \n",
    "                plt.sca(next(Axes))\n",
    "                title = '{:%Y-%m-%d %a}'.format(getDate(f))\n",
    "                plt.gca().set(title=title)\n",
    "                plt.imshow(img, cmap=plt.cm.gray)\n",
    "                for im in carve(img):\n",
    "                    plotBox(*im)\n",
    "                plt.autoscale(enable=True, axis='both', tight=True)\n",
    "                \n",
    "                \n",
    "                # save\n",
    "                images[title] = img\n",
    "                if i > 1:\n",
    "                    break\n",
    "    except StopIteration:\n",
    "        break\n",
    "    except Exception as e:\n",
    "        print('Failed to load: {}: {}'.format(filename,e))\n",
    "        break\n",
    "#     break\n",
    "# plt.show()"
   ]
  },
  {
   "cell_type": "code",
   "execution_count": null,
   "metadata": {
    "collapsed": false
   },
   "outputs": [],
   "source": [
    "def getDate(filename, split='\\\\'):\n",
    "    if split in filename:\n",
    "        s = re.findall('\\d+', filename.split(split)[-1])[0]\n",
    "    else:\n",
    "        s = re.findall('\\d+', filename)[0]\n",
    "    return datetime.strptime(s, '%Y%m%d')\n",
    "'{:%Y-%m-%d %a}'.format(getDate(f))"
   ]
  },
  {
   "cell_type": "code",
   "execution_count": null,
   "metadata": {
    "collapsed": false
   },
   "outputs": [],
   "source": [
    "# data.seek(0)\n",
    "# # plt.imread(data)\n",
    "# with open('test2.gif', 'w+b') as f:\n",
    "#     f.write((data.read()))"
   ]
  },
  {
   "cell_type": "code",
   "execution_count": null,
   "metadata": {
    "collapsed": false
   },
   "outputs": [],
   "source": [
    "for (height,width),number in generalsizes.items():\n",
    "    plt.plot(number, height/width, '.')\n",
    "_ = plt.gca().set(xscale='log', xlim=[0.2, 1e4])"
   ]
  },
  {
   "cell_type": "code",
   "execution_count": null,
   "metadata": {
    "collapsed": false
   },
   "outputs": [],
   "source": [
    "def carve(img, nx=None, ny=100, linethresh=None):\n",
    "    nx = np.floor(img.shape[1]/3)-50\n",
    "    print(nx)\n",
    "    Y = threshold(img)\n",
    "    linethresh = np.clip(np.percentile(np.mean(Y, axis=1), 4), 0, 180)\n",
    "    ylines = np.where(np.mean(Y,1)<linethresh)[0]\n",
    "    lines = (np.concatenate([[0], ylines,[img.shape[0]]]))\n",
    "    deltas = np.diff(lines)\n",
    "    yoffsets = lines[np.where(deltas>ny)[0]]#[::2]\n",
    "    heights = deltas[np.where(deltas>ny)[0]]#[::2]\n",
    "    \n",
    "    for yoffset,height in zip(yoffsets, heights):\n",
    "        X = Y[yoffset:yoffset+height,:]\n",
    "        xmean = np.mean(X, axis=0)/np.std(X, axis=0)\n",
    "        xp = np.percentile(xmean, 1)\n",
    "        xlines = np.where(xmean < xp)[0]\n",
    "\n",
    "        lines = np.concatenate([xlines,np.linspace(0, img.shape[1], 2)])\n",
    "        lines = np.array(sorted(lines))\n",
    "        deltas = np.diff(lines)\n",
    "        xoffsets = lines[np.where(deltas>nx)[0]]#[::2]\n",
    "        widths = deltas[np.where(deltas>nx)[0]]#[::2]\n",
    "        \n",
    "        for xoffset, width in zip(xoffsets, widths):\n",
    "            yield xoffset, xoffset+width, yoffset, yoffset+height\n",
    "\n",
    "for i, (d,img) in enumerate(sorted(images.items())):\n",
    "    if i < 2:\n",
    "        continue\n",
    "    plt.imshow(img, cmap=plt.cm.gray)\n",
    "    for box in carve(img):\n",
    "        print(box)\n",
    "        plotBox(*box)\n",
    "    plt.title('{}: {:0.2f}'.format(d, img.shape[0]/img.shape[1]))\n",
    "    break"
   ]
  },
  {
   "cell_type": "code",
   "execution_count": null,
   "metadata": {
    "collapsed": false
   },
   "outputs": [],
   "source": [
    "plt.plot(np.mean(img, axis=0))"
   ]
  },
  {
   "cell_type": "code",
   "execution_count": null,
   "metadata": {
    "collapsed": false
   },
   "outputs": [],
   "source": [
    "plt.plot(np.mean(img, axis=0)/np.std(img, axis=0))\n",
    "plt.yscale('log')"
   ]
  },
  {
   "cell_type": "code",
   "execution_count": null,
   "metadata": {
    "collapsed": true
   },
   "outputs": [],
   "source": []
  },
  {
   "cell_type": "code",
   "execution_count": null,
   "metadata": {
    "collapsed": false
   },
   "outputs": [],
   "source": [
    "directories = Counter()\n",
    "filenames = sorted(glob.iglob('/Users/ajmendez/data/dilbert/images/*/*'))\n",
    "bad_filenames = []\n",
    "for i, filename in enumerate(filenames):\n",
    "#     # First remove sub directories\n",
    "#     origdir,filename = os.path.split(filename)\n",
    "#     dirname = os.path.dirname(origdir)\n",
    "#     shutil.move(os.path.join(origdir,filename), os.path.join(dirname, filename))\n",
    "    \n",
    "#     # Filter BW/Color ones\n",
    "#     bwfilename = filename.replace('-colour', '')\n",
    "#     if (filename != bwfilename) and (bwfilename in filenames):\n",
    "#         os.remove(bwfilename)\n",
    "#         continue\n",
    "    \n",
    "#     # Remove small copies\n",
    "#     sfilename = filename.replace('-small','')\n",
    "#     if (filename != sfilename) and (sfilename in filenames):\n",
    "#         os.remove(filename)\n",
    "#         continue\n",
    "    \n",
    "#     # Files without size\n",
    "#     if os.stat(filename).st_size == 0:\n",
    "#         os.remove(filename)\n",
    "#         print(filename)\n",
    "    \n",
    "    \n",
    "    gfilename = filename.replace('.gif', '.jpg')\n",
    "    if (filename != gfilename) and (gfilename in filenames):\n",
    "        os.remove(gfilename)\n",
    "        continue\n",
    "    \n",
    "    \n",
    "    \n",
    "    directories[os.path.basename(os.path.dirname(filename))] += 1\n",
    "directories.most_common(1000)"
   ]
  },
  {
   "cell_type": "code",
   "execution_count": null,
   "metadata": {
    "collapsed": true
   },
   "outputs": [],
   "source": [
    "from collections import defaultdict"
   ]
  },
  {
   "cell_type": "code",
   "execution_count": null,
   "metadata": {
    "collapsed": false
   },
   "outputs": [],
   "source": [
    "simplesizes = defaultdict(list)\n",
    "simpleshapes = defaultdict(list)\n",
    "filenames = sorted(glob.iglob('/Users/ajmendez/data/dilbert/images/*/*'))\n",
    "for filename in filenames:\n",
    "    with Image.open(filename) as img:\n",
    "        key = (myround(img.height), myround(img.width))\n",
    "        simplesizes[key].append(filename)\n",
    "        simpleshapes[key].append((img.height, img.width))\n",
    "        "
   ]
  },
  {
   "cell_type": "code",
   "execution_count": null,
   "metadata": {
    "collapsed": false
   },
   "outputs": [],
   "source": [
    "sorted(map(lambda x: (x[0], len(x[1])), simplesizes.items()), key=lambda x: -x[-1])"
   ]
  },
  {
   "cell_type": "code",
   "execution_count": null,
   "metadata": {
    "collapsed": false
   },
   "outputs": [],
   "source": [
    "nskip = 500\n",
    "for j,((height,width),filenames) in enumerate(sorted(simplesizes.items(), key=lambda x: -len(x[-1]))):\n",
    "    if len(filenames) < 100:\n",
    "        continue\n",
    "    if j < 2:\n",
    "        continue\n",
    "    shapes = simpleshapes[(height,width)]\n",
    "    image = np.zeros(np.min(shapes, axis=0))\n",
    "    for i,filename in enumerate(filenames):\n",
    "        if i > nskip:\n",
    "            continue\n",
    "        with Image.open(filename) as img:\n",
    "            x = np.array(img)\n",
    "            if len(x.shape) in [3,4]:\n",
    "                x = rgb2gray(x)\n",
    "#             if image is None:\n",
    "#                 image = np.zeros(x.shape)\n",
    "            image += x[:image.shape[0], :image.shape[1]]*1.0/np.min([nskip, len(shapes)])\n",
    "    \n",
    "    plt.figure(figsize=(12,6))\n",
    "    plt.imshow(image, cmap=plt.cm.gray)\n",
    "    plt.title((height,width,len(filenames)))\n",
    "    break"
   ]
  },
  {
   "cell_type": "code",
   "execution_count": null,
   "metadata": {
    "collapsed": false
   },
   "outputs": [],
   "source": [
    "filename"
   ]
  },
  {
   "cell_type": "code",
   "execution_count": null,
   "metadata": {
    "collapsed": false
   },
   "outputs": [],
   "source": [
    "img = Image.open(filename)\n",
    "plt.imshow(img)\n",
    "img.close()"
   ]
  },
  {
   "cell_type": "code",
   "execution_count": null,
   "metadata": {
    "collapsed": false
   },
   "outputs": [],
   "source": [
    "def segment(image, axis=0, p=0.97, npix=30):\n",
    "    '''\n",
    "    axis == 0 for x\n",
    "    axis == 1 for y\n",
    "    '''\n",
    "    a = np.mean(image, axis=axis)\n",
    "    b = a/(1+np.std(image, axis=axis))\n",
    "    ii = np.where(#(b > np.percentile(b,p*100)) &\n",
    "                  (a > np.mean(a)+1.8*np.std(a)) |\n",
    "                  (a < np.mean(a)-1.8*np.std(a)))[0]\n",
    "    \n",
    "    pts = []\n",
    "    for i in ii:\n",
    "        for p in pts:\n",
    "            if any([np.abs(i-j)<npix for j in p]):\n",
    "                p.append(i)\n",
    "                break\n",
    "        else:\n",
    "            pts.append([i])\n",
    "    pts = [\n",
    "        np.min(p) if i == 0 else\n",
    "        np.max(p) if i == (len(pts)-1) else\n",
    "        np.mean(p)\n",
    "        for i,p in enumerate(pts)\n",
    "    ]\n",
    "    return ii, a, sorted(pts)\n",
    "\n",
    "\n",
    "\n",
    "fig, axes = plt.subplots(2,1, figsize=(12,6))\n",
    "items = [['height',1],\n",
    "         ['width', 0]]\n",
    "for i,(ax,(name,axis)) in enumerate(zip(axes.flatten(),items)):\n",
    "    plt.sca(ax)\n",
    "    if name == 'height':\n",
    "        ii,a,ypts = segment(image, axis)\n",
    "        plt.plot(a)\n",
    "        plt.plot(ii, a[ii], 's')\n",
    "        for p in ypts:\n",
    "            plt.axvline(p, color='r',lw=2)\n",
    "    else:\n",
    "        for imin,imax in zip(ypts, ypts[1:]):\n",
    "            print(imin, imax)\n",
    "            jj,b,xpts = segment(image[imin:imax,:], axis)\n",
    "            plt.plot(b, 'b')\n",
    "            plt.plot(jj, b[jj], 'sg')\n",
    "            for p in xpts:\n",
    "                plt.axvline(p, color='r',lw=2)\n",
    "                                   "
   ]
  },
  {
   "cell_type": "code",
   "execution_count": null,
   "metadata": {
    "collapsed": false
   },
   "outputs": [],
   "source": [
    "def yxsegment(image):\n",
    "    ii,a,ypts = segment(image, 1)\n",
    "    for ymin,ymax in zip(ypts, ypts[1:]):\n",
    "        jj,b,xpts = segment(image[ymin:ymax,:], 0)\n",
    "        for xmin, xmax in zip(xpts, xpts[1:]):\n",
    "            yield xmin, xmax, ymin, ymax\n",
    "plt.figure(figsize=(12,6))\n",
    "plt.imshow(image, cmap=plt.cm.gray)\n",
    "for box in yxsegment(image):\n",
    "    plotBox(*box)"
   ]
  },
  {
   "cell_type": "code",
   "execution_count": null,
   "metadata": {
    "collapsed": false
   },
   "outputs": [],
   "source": [
    "\n",
    "def plotBox(xmin, xmax, ymin, ymax):\n",
    "    plt.plot([xmin, xmax, xmax, xmin, xmin],\n",
    "             [ymin, ymin, ymax, ymax, ymin], color='r', lw=2)\n",
    "\n",
    "def threshold(img, thresh=60):\n",
    "    Y = np.zeros(img.shape)+255\n",
    "    Y[img < thresh] = img[img < thresh]\n",
    "    return(Y)\n",
    "\n",
    "def carve(img, nx=None, ny=100, linethresh=None):\n",
    "    nx = np.floor(img.shape[1]/3)-50\n",
    "    print(nx)\n",
    "    Y = threshold(img)\n",
    "    linethresh = np.clip(np.percentile(np.mean(Y, axis=1), 4), 0, 180)\n",
    "    ylines = np.where(np.mean(Y,1)<linethresh)[0]\n",
    "    lines = (np.concatenate([[0], ylines,[img.shape[0]]]))\n",
    "    deltas = np.diff(lines)\n",
    "    yoffsets = lines[np.where(deltas>ny)[0]]#[::2]\n",
    "    heights = deltas[np.where(deltas>ny)[0]]#[::2]\n",
    "    \n",
    "    for yoffset,height in zip(yoffsets, heights):\n",
    "        X = Y[yoffset:yoffset+height,:]\n",
    "        xmean = np.mean(X, axis=0)/np.std(X, axis=0)\n",
    "        xp = np.percentile(xmean, 90)\n",
    "        xlines = np.where(xmean > xp)[0]\n",
    "        print(xlines)\n",
    "        \n",
    "        lines = np.concatenate([xlines,np.linspace(0, img.shape[1], 2)])\n",
    "        lines = np.array(sorted(lines))\n",
    "        deltas = np.diff(lines)\n",
    "        xoffsets = lines[np.where(deltas>nx)[0]]#[::2]\n",
    "        widths = deltas[np.where(deltas>nx)[0]]#[::2]\n",
    "        \n",
    "        for xoffset, width in zip(xoffsets, widths):\n",
    "            yield xoffset, xoffset+width, yoffset, yoffset+height\n",
    "\n",
    "            \n",
    "plt.figure(figsize=(12,6))\n",
    "plt.imshow(image, cmap=plt.cm.gray)\n",
    "for box in carve(image):\n",
    "    plotBox(*box)"
   ]
  },
  {
   "cell_type": "code",
   "execution_count": null,
   "metadata": {
    "collapsed": false
   },
   "outputs": [],
   "source": [
    "fig,(ax1,ax2) = plt.subplots(2,1,figsize=(12,12))\n",
    "ax1.imshow(x, cmap=plt.cm.gray)\n",
    "ax2.imshow(image, cmap=plt.cm.gray)\n",
    "ax2.imshow(x, cmap=plt.cm.Reds, alpha=0.6)"
   ]
  },
  {
   "cell_type": "code",
   "execution_count": null,
   "metadata": {
    "collapsed": false
   },
   "outputs": [],
   "source": [
    "np.array(simpleshapes[(300,640)])"
   ]
  },
  {
   "cell_type": "code",
   "execution_count": null,
   "metadata": {
    "collapsed": false
   },
   "outputs": [],
   "source": [
    "with Image.open(filename) as img:\n",
    "    print(img.height, img.width)\n",
    "    x = np.array(img)\n",
    "    plt.imshow(x)"
   ]
  },
  {
   "cell_type": "code",
   "execution_count": null,
   "metadata": {
    "collapsed": false
   },
   "outputs": [],
   "source": [
    "img.height, img.width, x.shape"
   ]
  },
  {
   "cell_type": "code",
   "execution_count": null,
   "metadata": {
    "collapsed": true
   },
   "outputs": [],
   "source": []
  }
 ],
 "metadata": {
  "anaconda-cloud": {},
  "kernelspec": {
   "display_name": "Python 3",
   "language": "python",
   "name": "python3"
  },
  "language_info": {
   "codemirror_mode": {
    "name": "ipython",
    "version": 3
   },
   "file_extension": ".py",
   "mimetype": "text/x-python",
   "name": "python",
   "nbconvert_exporter": "python",
   "pygments_lexer": "ipython3",
   "version": "3.5.2"
  }
 },
 "nbformat": 4,
 "nbformat_minor": 0
}
