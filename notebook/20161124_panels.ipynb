{
 "cells": [
  {
   "cell_type": "code",
   "execution_count": null,
   "metadata": {
    "collapsed": true
   },
   "outputs": [],
   "source": [
    "%matplotlib inline\n",
    "import matplotlib.pyplot as plt\n",
    "import numpy as np\n",
    "import pandas as pd\n",
    "import re\n",
    "import glob\n",
    "import rarfile, os\n",
    "from collections import Counter\n",
    "from collections import defaultdict\n",
    "from PIL import Image\n",
    "from datetime import datetime\n",
    "import shutil\n",
    "\n",
    "def imshow(*args, **kwargs):\n",
    "    params = dict(cmap=plt.cm.gray, interpolation='nearest')\n",
    "    params.update(kwargs)\n",
    "    plt.imshow(*args, **params)\n",
    "\n",
    "def rgb2gray(rgb):\n",
    "    return np.dot(rgb[...,:3], [0.299, 0.587, 0.114])\n",
    "\n",
    "def getDate(filename, split='\\\\'):\n",
    "    if split in filename:\n",
    "        s = re.findall('\\d+', filename.split(split)[-1])[0]\n",
    "    else:\n",
    "        s = re.findall('\\d+', filename)[0]\n",
    "    return datetime.strptime(s, '%Y%m%d')\n",
    "\n",
    "def myround(x, base=2):\n",
    "    return int(base * round(float(x)/base))\n"
   ]
  },
  {
   "cell_type": "markdown",
   "metadata": {},
   "source": [
    "## Cleaning image directory"
   ]
  },
  {
   "cell_type": "code",
   "execution_count": null,
   "metadata": {
    "collapsed": false
   },
   "outputs": [],
   "source": [
    "directories = Counter()\n",
    "filenames = sorted(glob.iglob('/Users/ajmendez/data/dilbert/images/*/*'))\n",
    "bad_filenames = []\n",
    "for i, filename in enumerate(filenames):\n",
    "#     # First remove sub directories\n",
    "#     origdir,filename = os.path.split(filename)\n",
    "#     dirname = os.path.dirname(origdir)\n",
    "#     shutil.move(os.path.join(origdir,filename), os.path.join(dirname, filename))\n",
    "    \n",
    "#     # Filter BW/Color ones\n",
    "#     bwfilename = filename.replace('-colour', '')\n",
    "#     if (filename != bwfilename) and (bwfilename in filenames):\n",
    "#         os.remove(bwfilename)\n",
    "#         continue\n",
    "    \n",
    "#     # Remove small copies\n",
    "#     sfilename = filename.replace('-small','')\n",
    "#     if (filename != sfilename) and (sfilename in filenames):\n",
    "#         os.remove(filename)\n",
    "#         continue\n",
    "    \n",
    "#     # Files without size\n",
    "#     if os.stat(filename).st_size == 0:\n",
    "#         os.remove(filename)\n",
    "#         print(filename)\n",
    "    \n",
    "    \n",
    "    gfilename = filename.replace('.gif', '.jpg')\n",
    "    if (filename != gfilename) and (gfilename in filenames):\n",
    "        os.remove(gfilename)\n",
    "        continue\n",
    "    \n",
    "    \n",
    "    \n",
    "    directories[os.path.basename(os.path.dirname(filename))] += 1\n",
    "directories.most_common(1000)"
   ]
  },
  {
   "cell_type": "code",
   "execution_count": null,
   "metadata": {
    "collapsed": false
   },
   "outputs": [],
   "source": [
    "simplesizes = defaultdict(list)\n",
    "simpleshapes = defaultdict(list)\n",
    "filenames = sorted(glob.iglob('/Users/ajmendez/data/dilbert/images/*/*'))\n",
    "for filename in filenames:\n",
    "    with Image.open(filename) as img:\n",
    "        key = (myround(img.height), myround(img.width))\n",
    "        simplesizes[key].append(filename)\n",
    "        simpleshapes[key].append((img.height, img.width))\n",
    "        "
   ]
  },
  {
   "cell_type": "code",
   "execution_count": null,
   "metadata": {
    "collapsed": false
   },
   "outputs": [],
   "source": [
    "sorted(map(lambda x: (x[0], len(x[1])), simplesizes.items()), key=lambda x: -x[-1])[:10]"
   ]
  },
  {
   "cell_type": "code",
   "execution_count": null,
   "metadata": {
    "collapsed": true
   },
   "outputs": [],
   "source": [
    "np.sort()"
   ]
  },
  {
   "cell_type": "code",
   "execution_count": null,
   "metadata": {
    "collapsed": false
   },
   "outputs": [],
   "source": [
    "def plotBox(xmin, xmax, ymin, ymax):\n",
    "    plt.plot([xmin, xmax, xmax, xmin, xmin],\n",
    "             [ymin, ymin, ymax, ymax, ymin], color='r', lw=2)\n",
    "\n",
    "def threshold(img, thresh=60):\n",
    "    Y = np.zeros(img.shape)+255\n",
    "    Y[img < thresh] = img[img < thresh]\n",
    "    return(Y)\n",
    "\n",
    "def getOffsets(im, sep=120, axis=1):\n",
    "    m = np.mean(im, axis=axis)\n",
    "    thresh = np.percentile(m, 2)\n",
    "    s = np.std(im, axis=axis)\n",
    "    sthresh = np.percentile(s, 2)\n",
    "    pts = np.where((m<thresh) | (s<sthresh))[0]\n",
    "    lines = np.sort(np.concatenate([[0], pts, [im.shape[i]]]))\n",
    "    delta = np.diff(lines)\n",
    "    offsets = lines[np.where(delta > xm)[0]]\n",
    "    sizes = delta[np.where(delta > xm)[0]]\n",
    "    for offset,size in zip(offsets, sizes):\n",
    "        yield offset, offset+size\n",
    "\n",
    "def carve(img, nx=120, ny=120, linethresh=None):\n",
    "    Y = threshold(img)\n",
    "    Y = img\n",
    "    ymean = np.mean(Y, axis=1)\n",
    "    linethresh = np.percentile(np.mean(Y, axis=1), 2)\n",
    "    ylines = np.where(np.mean(Y,1)<linethresh)[0]\n",
    "    lines = np.sort(np.concatenate([[0], ylines,[img.shape[0]]]))\n",
    "    \n",
    "    deltas = np.diff(lines)\n",
    "    yoffsets = lines[np.where(deltas>ny)[0]]#[::2]\n",
    "    heights = deltas[np.where(deltas>ny)[0]]#[::2]\n",
    "    \n",
    "    for yoffset,height in zip(yoffsets, heights):\n",
    "        X = Y[yoffset:yoffset+height,:]\n",
    "        xmean = np.mean(X, axis=0)\n",
    "        xthresh = np.percentile(xmean, 2)\n",
    "        xlines = np.where(xmean < xthresh)[0]\n",
    "        \n",
    "        lines = np.sort(np.concatenate([[0], xlines, [img.shape[1]]]))\n",
    "        deltas = np.diff(lines)\n",
    "        xoffsets = lines[np.where(deltas>nx)[0]]#[::2]\n",
    "        widths = deltas[np.where(deltas>nx)[0]]#[::2]\n",
    "        \n",
    "        for xoffset, width in zip(xoffsets, widths):\n",
    "            yield xoffset, xoffset+width, yoffset, yoffset+height\n",
    "\n",
    "            \n",
    "# plt.figure(figsize=(12,6))\n",
    "# imshow(image)\n",
    "# for box in carve(image):\n",
    "#     plotBox(*box)"
   ]
  },
  {
   "cell_type": "code",
   "execution_count": null,
   "metadata": {
    "collapsed": false
   },
   "outputs": [],
   "source": [
    "def oned(im, xm=120, axis=1):\n",
    "    m = np.mean(im, axis=axis)\n",
    "    plt.plot(m)\n",
    "    thresh = np.percentile(m, 2)\n",
    "\n",
    "    s = np.std(im, axis=axis)\n",
    "    plt.plot(s)\n",
    "    sthresh = np.percentile(s, 2)\n",
    "\n",
    "    plt.axhline(thresh, color='orange')\n",
    "    plt.axhline(thresh, color='red')\n",
    "    pts = np.where((m<thresh) | (s<sthresh))[0]\n",
    "    lines = np.sort(np.concatenate([[0], pts, [im.shape[i]]]))\n",
    "    delta = np.diff(lines)\n",
    "    offsets = lines[np.where(delta > xm)[0]]\n",
    "    heights = delta[np.where(delta > xm)[0]]\n",
    "    for offset, height in zip(offsets, heights):\n",
    "        plt.axvspan(offset, offset+height, zorder=2, color='0.5')\n",
    "for i, ax in enumerate(plt.subplots(2,1, figsize=(12,6))[1]):\n",
    "    plt.sca(ax)\n",
    "    oned(image, axis=1-i)"
   ]
  },
  {
   "cell_type": "code",
   "execution_count": null,
   "metadata": {
    "collapsed": false,
    "scrolled": false
   },
   "outputs": [],
   "source": [
    "nskip = 5000\n",
    "bad = []\n",
    "params = {}\n",
    "for j,((height,width),filenames) in enumerate(sorted(simplesizes.items(), key=lambda x: -len(x[-1]))):\n",
    "#     if len(filenames) < 2:\n",
    "#         continue\n",
    "#     if j < 2:\n",
    "#         continue\n",
    "#     if j not in bad:\n",
    "#         continue\n",
    "    key = (height,width)\n",
    "    shapes = simpleshapes[key]\n",
    "    image = np.zeros(np.min(shapes, axis=0))\n",
    "    for i,filename in enumerate(filenames):\n",
    "        if i > nskip:\n",
    "            continue\n",
    "        try:\n",
    "            x = plt.imread(filename)\n",
    "        except Exception as e:\n",
    "            print(e)\n",
    "            print(filename)\n",
    "            continue\n",
    "        if len(x.shape) in [3,4]:\n",
    "            x = rgb2gray(x)\n",
    "        image += x[:image.shape[0], \n",
    "                   :image.shape[1]]*1.0/np.min([nskip, len(shapes)])\n",
    "    outfilename = '/Users/ajmendez/data/dilbert/stacks_bad/stack_{:03d}.png'.format(j)\n",
    "    if os.path.exists(outfilename):\n",
    "        continue\n",
    "    \n",
    "    outfilename = '/Users/ajmendez/data/dilbert/stacks/stack_{:03d}.png'.format(j)\n",
    "#     plt.imsave(outfilename, image, cmap=plt.cm.gray)\n",
    "    \n",
    "    plt.figure(figsize=(12,6))\n",
    "    imshow(image)\n",
    "    params[key] = []\n",
    "    for box in carve(image):\n",
    "        plotBox(*box)\n",
    "        params[key].append(box)\n",
    "    plt.title((height,width,len(filenames)))\n",
    "    plt.savefig(outfilename.replace('.png', '.fig.png'))\n",
    "    plt.close()\n",
    "#     break"
   ]
  },
  {
   "cell_type": "code",
   "execution_count": null,
   "metadata": {
    "collapsed": true
   },
   "outputs": [],
   "source": [
    "from pprint import pformat, pprint"
   ]
  },
  {
   "cell_type": "code",
   "execution_count": null,
   "metadata": {
    "collapsed": false,
    "scrolled": false
   },
   "outputs": [],
   "source": [
    "# pprint(params, width=1000)"
   ]
  },
  {
   "cell_type": "code",
   "execution_count": null,
   "metadata": {
    "collapsed": true
   },
   "outputs": [],
   "source": [
    "# params2 = {}\n",
    "# for j,((height,width),filenames) in enumerate(sorted(simplesizes.items(), key=lambda x: -len(x[-1]))):\n",
    "#     params2[j] = params[(height,width)]"
   ]
  },
  {
   "cell_type": "code",
   "execution_count": null,
   "metadata": {
    "collapsed": false
   },
   "outputs": [],
   "source": [
    "# pprint(params2, width=1000)"
   ]
  },
  {
   "cell_type": "code",
   "execution_count": null,
   "metadata": {
    "collapsed": true
   },
   "outputs": [],
   "source": []
  }
 ],
 "metadata": {
  "kernelspec": {
   "display_name": "Python 3",
   "language": "python",
   "name": "python3"
  },
  "language_info": {
   "codemirror_mode": {
    "name": "ipython",
    "version": 3
   },
   "file_extension": ".py",
   "mimetype": "text/x-python",
   "name": "python",
   "nbconvert_exporter": "python",
   "pygments_lexer": "ipython3",
   "version": "3.5.2"
  }
 },
 "nbformat": 4,
 "nbformat_minor": 0
}
