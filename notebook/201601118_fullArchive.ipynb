{
 "cells": [
  {
   "cell_type": "code",
   "execution_count": null,
   "metadata": {
    "collapsed": false
   },
   "outputs": [],
   "source": [
    "%matplotlib inline\n",
    "import matplotlib.pyplot as plt\n",
    "import PIL\n",
    "import glob\n",
    "import rarfile\n",
    "import numpy as np\n",
    "import pandas as pd\n",
    "from collections import namedtuple\n",
    "from itertools import product\n",
    "\n",
    "offset = namedtuple('offset', ['width', 'height',\n",
    "                               'convertMode',\n",
    "                               'xmin', 'xmax', 'xoffsets',  \n",
    "                               'ymin', 'ymax', 'yoffsets' ])\n",
    "offsets = [\n",
    "    # 1989\n",
    "    offset(600, 406, 'LA', 1, 125, [20,165, 370, 468], 1, 125, [142,278]), # Sunday 1989\n",
    "    offset(640, 189, 'LA', 2, 185, [10,230,445], 2, 185, [0]),    # Weekday 1989\n",
    "    \n",
    "    offset(640, 186, 'LA', 2, 185, [10,230,445], 2, 185, [0]),    # Weekday 1990\n",
    "    offset(640, 196, 'LA', 5, 197, [0,218,436], 3, 195, [0]),      # Weekday 1990\n",
    "    \n",
    "    offset(640, 199, 'L', 5, 199, [0,218,436], 3, 197, [0]), # Weekday 2012\n",
    "    offset(640, 288, 'L', 9, 145, [0, 160, 322, 486], 1,137, [0, 149]), # Weekend 2012\n",
    "    \n",
    "]"
   ]
  },
  {
   "cell_type": "code",
   "execution_count": null,
   "metadata": {
    "collapsed": false
   },
   "outputs": [],
   "source": [
    "pattern = '/Users/ajmendez/data/dilbert/raw/*.rar'\n",
    "sizes = []\n",
    "for filename in sorted(glob.iglob(pattern)):\n",
    "    if any([x in filename for x in ['1989']]):\n",
    "        continue\n",
    "        \n",
    "    print(filename)\n",
    "    with rarfile.RarFile(filename) as rf:\n",
    "        files = sorted(rf.namelist())\n",
    "        files = [f for f in files\n",
    "                 if not (f.replace('.jpg','-colour.jpg') in files)]\n",
    "        for f in files:\n",
    "            img = PIL.Image.open(rf.open(f))\n",
    "            sizes.append([img.width, img.height])\n",
    "            \n",
    "            hasoffset = any([(np.abs(img.width-off.width) < 2) &\n",
    "                             (np.abs(img.height-off.height) < 2) \n",
    "                             for off in offsets])\n",
    "            if hasoffset:\n",
    "                continue\n",
    "            break\n",
    "    print('Done')\n",
    "    break\n",
    "\n",
    "print(img.width, img.height)\n",
    "plt.imshow(img)"
   ]
  },
  {
   "cell_type": "code",
   "execution_count": null,
   "metadata": {
    "collapsed": false
   },
   "outputs": [],
   "source": [
    "def convert(image, off):\n",
    "    plt.figure(figsize=(12,12))\n",
    "    plt.imshow(image.convert('LA'))\n",
    "    print(off.xmax-off.xmin)\n",
    "    print(off.ymax-off.ymin)\n",
    "    for xoffset in off.xoffsets:\n",
    "        plt.axvline(xoffset+off.xmin, color='r', lw=2)\n",
    "        plt.axvline(xoffset+off.xmax, color='r', lw=2)\n",
    "    for yoffset in off.yoffsets:\n",
    "        plt.axhline(yoffset+off.ymin, color='r', lw=2)\n",
    "        plt.axhline(yoffset+off.ymax, color='r', lw=2)\n",
    "#     for j,(yoffset, xoffset) in enumerate(product(offset.yoffsets,offset.xoffsets)):\n",
    "#         plt.axvline(xoffset, color='r')\n",
    "#         plt.axhline(yoffset, color='r')\n",
    "        \n",
    "\n",
    "off = offset(640, 196, 'LA', 5, 197, [0,218,436], 3, 195, [0])\n",
    "\n",
    "convert(img, off)"
   ]
  },
  {
   "cell_type": "code",
   "execution_count": null,
   "metadata": {
    "collapsed": false
   },
   "outputs": [],
   "source": [
    "NX=NY=128\n",
    "def carveImages(image, off, outpattern=None, convertMode=None):\n",
    "    if convertMode is None:\n",
    "        convertMode = off.convertMode\n",
    "    for k,(yoffset, xoffset) in enumerate(product(off.yoffsets, off.xoffsets)):\n",
    "        img = image.crop((xoffset + off.xmin, \n",
    "                          yoffset + off.ymin, \n",
    "                          xoffset + off.xmax - off.xmin, \n",
    "                          yoffset + off.ymax - off.ymin))\n",
    "        img.thumbnail((NX,NY), PIL.Image.ANTIALIAS)\n",
    "        if outpattern:\n",
    "            img.convert(convertMode).save(outpattern.format(j=j))\n",
    "        else:\n",
    "            yield img.convert(convertMode)\n",
    "\n",
    "def plotImages(image, off):\n",
    "    nx,ny = len(off.xoffsets), len(off.yoffsets)\n",
    "    fig, axes = plt.subplots(ny, nx, figsize=(nx*3, \n",
    "                                      ny*3))\n",
    "    \n",
    "    for (img,ax) in zip(carveImages(image, off), axes.flatten()):\n",
    "        plt.sca(ax)\n",
    "        plt.imshow(img)\n",
    "\n",
    "plotImages(img, off)\n",
    "    "
   ]
  },
  {
   "cell_type": "code",
   "execution_count": null,
   "metadata": {
    "collapsed": true
   },
   "outputs": [],
   "source": [
    "    for xoffset in \n",
    "    xmin,xmax = [9,145]\n",
    "    ymin,ymax = [1,137]\n",
    "    xoffsets = [0, 160, 322, 486]\n",
    "    yoffsets = [0, 149]\n",
    "    # Remember people read left to right -- top to bottom\n",
    "    for j,(yoffset, xoffset) in enumerate(product(yoffsets, xoffsets)):\n",
    "        img = image.crop((xoffset + xmin, \n",
    "                          yoffset + ymin, \n",
    "                          xoffset + xmax - xmin, \n",
    "                          yoffset + ymax - ymin))\n",
    "        img.thumbnail((NX,NY), PIL.Image.ANTIALIAS)\n",
    "        img.convert('L').save(outpattern.format(j=j))"
   ]
  }
 ],
 "metadata": {
  "kernelspec": {
   "display_name": "Python 3",
   "language": "python",
   "name": "python3"
  },
  "language_info": {
   "codemirror_mode": {
    "name": "ipython",
    "version": 3
   },
   "file_extension": ".py",
   "mimetype": "text/x-python",
   "name": "python",
   "nbconvert_exporter": "python",
   "pygments_lexer": "ipython3",
   "version": "3.5.2"
  }
 },
 "nbformat": 4,
 "nbformat_minor": 0
}
