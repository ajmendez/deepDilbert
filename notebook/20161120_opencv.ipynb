{
 "cells": [
  {
   "cell_type": "code",
   "execution_count": null,
   "metadata": {
    "collapsed": true
   },
   "outputs": [],
   "source": [
    "%matplotlib inline\n",
    "import matplotlib.pyplot as plt\n",
    "import numpy as np\n",
    "import cv2"
   ]
  },
  {
   "cell_type": "code",
   "execution_count": null,
   "metadata": {
    "collapsed": false
   },
   "outputs": [],
   "source": [
    "def angle_cos(p0, p1, p2):\n",
    "    d1, d2 = (p0-p1).astype('float'), (p2-p1).astype('float')\n",
    "    return abs( np.dot(d1, d2) / np.sqrt( np.dot(d1, d1)*np.dot(d2, d2) ) )\n",
    "\n",
    "img = cv2.imread('test.jpg')\n",
    "img = cv2.cvtColor(img, cv2.COLOR_BGR2GRAY)\n",
    "# img = cv2.GaussianBlur(img, (3, 3), 0)\n",
    "# img = cv2.Canny(img, 0, 50, apertureSize=3)\n",
    "# img = cv2.dilate(img, None)\n",
    "# img = cv2.erode(img, np.ones((1,1)))\n",
    "retval, thresh = cv2.threshold(img, 10, 100, cv2.THRESH_TRIANGLE)\n",
    "bin, contours, hierarchy = cv2.findContours(img, cv2.RETR_LIST, cv2.CHAIN_APPROX_SIMPLE)\n",
    "contours = sorted(contours, key = cv2.contourArea, reverse = True)#[:100]\n",
    "squares = []\n",
    "for cnt in contours:\n",
    "    cnt_len = cv2.arcLength(cnt, True)\n",
    "    cnt = cv2.approxPolyDP(cnt, 0.09*cnt_len, True)\n",
    "    if ((len(cnt) == 4) and \n",
    "        (cv2.contourArea(cnt) > 1000) and\n",
    "        # (cv2.contourArea(cnt) < 50000) and\n",
    "        cv2.isContourConvex(cnt) ):\n",
    "        cnt = cnt.reshape(-1, 2)\n",
    "        max_cos = np.max([angle_cos( cnt[i], cnt[(i+1) % 4], cnt[(i+2) % 4] ) \n",
    "                          for i in range(4)])\n",
    "        if max_cos < 0.1:\n",
    "            squares.append(cnt)\n",
    "bin = cv2.cvtColor(bin, cv2.COLOR_GRAY2BGR)\n",
    "cv2.drawContours( bin, contours, \n",
    "                 -1, (0, 0, 255), 1 )\n",
    "\n",
    "items = [\n",
    "    img,\n",
    "    thresh,\n",
    "    bin\n",
    "]\n",
    "\n",
    "fig, axes = plt.subplots(len(items),1, figsize=(len(items)*3,12))\n",
    "for ax,im in zip(axes.flatten(), items):\n",
    "    plt.sca(ax)\n",
    "    plt.imshow(im, interpolation='nearest', cmap=plt.cm.gray)"
   ]
  },
  {
   "cell_type": "code",
   "execution_count": null,
   "metadata": {
    "collapsed": false
   },
   "outputs": [],
   "source": [
    "\n",
    "img = cv2.imread('test.jpg')\n",
    "img = cv2.cvtColor(img, cv2.COLOR_RGB2BGR)\n",
    "gray = cv2.cvtColor(img,cv2.COLOR_BGR2GRAY)\n",
    "edges = cv2.Canny(gray,0,255,apertureSize = 3)\n",
    "\n",
    "gray = cv2.cvtColor(gray,cv2.COLOR_GRAY2BGR)\n",
    "\n",
    "\n",
    "minLineLength = 1\n",
    "maxLineGap = 1\n",
    "lines = cv2.HoughLinesP(edges,3,np.pi/180,100,minLineLength,maxLineGap)\n",
    "for x1,y1,x2,y2 in lines[0]:\n",
    "    cv2.line(gray,(x1,y1),(x2,y2),(0,255,0),2)\n",
    "\n",
    "\n",
    "# lines = cv2.HoughLines(edges,1,np.pi/180,200)\n",
    "# for rho,theta in lines[0]:\n",
    "#     a = np.cos(theta)\n",
    "#     b = np.sin(theta)\n",
    "#     x0 = a*rho\n",
    "#     y0 = b*rho\n",
    "#     x1 = int(x0 + 1000*(-b))\n",
    "#     y1 = int(y0 + 1000*(a))\n",
    "#     x2 = int(x0 - 1000*(-b))\n",
    "#     y2 = int(y0 - 1000*(a))\n",
    "\n",
    "#     cv2.line(img,(x1,y1),(x2,y2),(255,0,0),6)\n",
    "\n",
    "    \n",
    "items = [\n",
    "    img,\n",
    "    gray,\n",
    "    edges\n",
    "]\n",
    "\n",
    "fig, axes = plt.subplots(len(items),1, figsize=(12, len(items)*6))\n",
    "for ax,im in zip(axes.flatten(), items):\n",
    "    plt.sca(ax)\n",
    "    plt.imshow(im, interpolation='nearest', cmap=plt.cm.gray)"
   ]
  },
  {
   "cell_type": "code",
   "execution_count": null,
   "metadata": {
    "collapsed": true
   },
   "outputs": [],
   "source": []
  }
 ],
 "metadata": {
  "kernelspec": {
   "display_name": "Python 3",
   "language": "python",
   "name": "python3"
  },
  "language_info": {
   "codemirror_mode": {
    "name": "ipython",
    "version": 3
   },
   "file_extension": ".py",
   "mimetype": "text/x-python",
   "name": "python",
   "nbconvert_exporter": "python",
   "pygments_lexer": "ipython3",
   "version": "3.5.2"
  }
 },
 "nbformat": 4,
 "nbformat_minor": 0
}
